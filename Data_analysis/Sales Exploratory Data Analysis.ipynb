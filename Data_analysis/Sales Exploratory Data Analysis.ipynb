{
 "cells": [
  {
   "cell_type": "markdown",
   "id": "f2ae83da",
   "metadata": {},
   "source": [
    "<h1>Sales Exploratory Data Analysis <h1>"
   ]
  },
  {
   "cell_type": "markdown",
   "id": "85c8625c",
   "metadata": {},
   "source": [
    "## Table of contents"
   ]
  },
  {
   "cell_type": "markdown",
   "id": "aa5a9167",
   "metadata": {},
   "source": [
    "* 1 Overview\n",
    "\n",
    "* 2 Importing the required modules\n",
    "\n",
    "* 3 Exploring the dataframe\n",
    "    * a) shape of the dataframe\n",
    "    * b) summary of the dataframe\n",
    "    * c) data description\n",
    "    * d) checking missing data\n",
    "    * e) observation\n",
    "\n",
    "* 4 Cleaning the data\n",
    "    * a) converting columns and rows to lower case\n",
    "    * b) renaming long column name to less words\n",
    "    * c) handling missing data\n",
    "    * d) converting incorrect data types\n",
    "   \n",
    "* 5 Data analysis\n",
    "    * a) who are the top 5 best performing countries in terms of total sales?\n",
    "    * b) who are the least 5 best performing countries in terms of total sales?\n",
    "    * c) most product sold"
   ]
  },
  {
   "cell_type": "markdown",
   "id": "e230c5f0",
   "metadata": {},
   "source": [
    "## 1 Overview\n",
    "This project is aimed at analysing the top countries with the highest and most products sold.\n",
    "\n",
    "Python data anaylsis tools would be used to get thus done."
   ]
  },
  {
   "cell_type": "markdown",
   "id": "93c367b3",
   "metadata": {},
   "source": [
    "<h2>2) Importing the required modules <h2>"
   ]
  },
  {
   "cell_type": "code",
   "execution_count": 1,
   "id": "e5d689c0-7394-44a0-b667-45b01cb836db",
   "metadata": {},
   "outputs": [],
   "source": [
    "import pandas as pd\n",
    "import numpy as np\n",
    "import seaborn as sns\n",
    "import matplotlib.pyplot as plt"
   ]
  },
  {
   "cell_type": "markdown",
   "id": "62dfe72f",
   "metadata": {},
   "source": [
    "<h2>2) Loading the dataset<h2>"
   ]
  },
  {
   "cell_type": "code",
   "execution_count": 2,
   "id": "c14789d0-83ad-4f7c-9afc-14bd298c3cca",
   "metadata": {},
   "outputs": [
    {
     "data": {
      "text/html": [
       "<div>\n",
       "<style scoped>\n",
       "    .dataframe tbody tr th:only-of-type {\n",
       "        vertical-align: middle;\n",
       "    }\n",
       "\n",
       "    .dataframe tbody tr th {\n",
       "        vertical-align: top;\n",
       "    }\n",
       "\n",
       "    .dataframe thead th {\n",
       "        text-align: right;\n",
       "    }\n",
       "</style>\n",
       "<table border=\"1\" class=\"dataframe\">\n",
       "  <thead>\n",
       "    <tr style=\"text-align: right;\">\n",
       "      <th></th>\n",
       "      <th>ORDERNUMBER</th>\n",
       "      <th>QUANTITYORDERED</th>\n",
       "      <th>PRICEEACH</th>\n",
       "      <th>ORDERLINENUMBER</th>\n",
       "      <th>SALES</th>\n",
       "      <th>ORDERDATE</th>\n",
       "      <th>STATUS</th>\n",
       "      <th>QTR_ID</th>\n",
       "      <th>MONTH_ID</th>\n",
       "      <th>YEAR_ID</th>\n",
       "      <th>PRODUCTLINE</th>\n",
       "      <th>MSRP</th>\n",
       "      <th>PRODUCTCODE</th>\n",
       "      <th>CUSTOMERNAME</th>\n",
       "      <th>PHONE</th>\n",
       "      <th>ADDRESSLINE1</th>\n",
       "      <th>ADDRESSLINE2</th>\n",
       "      <th>CITY</th>\n",
       "      <th>STATE</th>\n",
       "      <th>POSTALCODE</th>\n",
       "      <th>COUNTRY</th>\n",
       "      <th>TERRITORY</th>\n",
       "      <th>CONTACTLASTNAME</th>\n",
       "      <th>CONTACTFIRSTNAME</th>\n",
       "      <th>DEALSIZE</th>\n",
       "    </tr>\n",
       "  </thead>\n",
       "  <tbody>\n",
       "    <tr>\n",
       "      <th>0</th>\n",
       "      <td>10107</td>\n",
       "      <td>30</td>\n",
       "      <td>95.70</td>\n",
       "      <td>2</td>\n",
       "      <td>2871.00</td>\n",
       "      <td>2/24/2003 0:00</td>\n",
       "      <td>Shipped</td>\n",
       "      <td>1</td>\n",
       "      <td>2</td>\n",
       "      <td>2003</td>\n",
       "      <td>Motorcycles</td>\n",
       "      <td>95</td>\n",
       "      <td>S10_1678</td>\n",
       "      <td>Land of Toys Inc.</td>\n",
       "      <td>2125557818</td>\n",
       "      <td>897 Long Airport Avenue</td>\n",
       "      <td>NaN</td>\n",
       "      <td>NYC</td>\n",
       "      <td>NY</td>\n",
       "      <td>10022</td>\n",
       "      <td>USA</td>\n",
       "      <td>NaN</td>\n",
       "      <td>Yu</td>\n",
       "      <td>Kwai</td>\n",
       "      <td>Small</td>\n",
       "    </tr>\n",
       "    <tr>\n",
       "      <th>1</th>\n",
       "      <td>10121</td>\n",
       "      <td>34</td>\n",
       "      <td>81.35</td>\n",
       "      <td>5</td>\n",
       "      <td>2765.90</td>\n",
       "      <td>5/7/2003 0:00</td>\n",
       "      <td>Shipped</td>\n",
       "      <td>2</td>\n",
       "      <td>5</td>\n",
       "      <td>2003</td>\n",
       "      <td>Motorcycles</td>\n",
       "      <td>95</td>\n",
       "      <td>S10_1678</td>\n",
       "      <td>Reims Collectables</td>\n",
       "      <td>26.47.1555</td>\n",
       "      <td>59 rue de l'Abbaye</td>\n",
       "      <td>NaN</td>\n",
       "      <td>Reims</td>\n",
       "      <td>NaN</td>\n",
       "      <td>51100</td>\n",
       "      <td>France</td>\n",
       "      <td>EMEA</td>\n",
       "      <td>Henriot</td>\n",
       "      <td>Paul</td>\n",
       "      <td>Small</td>\n",
       "    </tr>\n",
       "    <tr>\n",
       "      <th>2</th>\n",
       "      <td>10134</td>\n",
       "      <td>41</td>\n",
       "      <td>94.74</td>\n",
       "      <td>2</td>\n",
       "      <td>3884.34</td>\n",
       "      <td>7/1/2003 0:00</td>\n",
       "      <td>Shipped</td>\n",
       "      <td>3</td>\n",
       "      <td>7</td>\n",
       "      <td>2003</td>\n",
       "      <td>Motorcycles</td>\n",
       "      <td>95</td>\n",
       "      <td>S10_1678</td>\n",
       "      <td>Lyon Souveniers</td>\n",
       "      <td>+33 1 46 62 7555</td>\n",
       "      <td>27 rue du Colonel Pierre Avia</td>\n",
       "      <td>NaN</td>\n",
       "      <td>Paris</td>\n",
       "      <td>NaN</td>\n",
       "      <td>75508</td>\n",
       "      <td>France</td>\n",
       "      <td>EMEA</td>\n",
       "      <td>Da Cunha</td>\n",
       "      <td>Daniel</td>\n",
       "      <td>Medium</td>\n",
       "    </tr>\n",
       "    <tr>\n",
       "      <th>3</th>\n",
       "      <td>10145</td>\n",
       "      <td>45</td>\n",
       "      <td>83.26</td>\n",
       "      <td>6</td>\n",
       "      <td>3746.70</td>\n",
       "      <td>8/25/2003 0:00</td>\n",
       "      <td>Shipped</td>\n",
       "      <td>3</td>\n",
       "      <td>8</td>\n",
       "      <td>2003</td>\n",
       "      <td>Motorcycles</td>\n",
       "      <td>95</td>\n",
       "      <td>S10_1678</td>\n",
       "      <td>Toys4GrownUps.com</td>\n",
       "      <td>6265557265</td>\n",
       "      <td>78934 Hillside Dr.</td>\n",
       "      <td>NaN</td>\n",
       "      <td>Pasadena</td>\n",
       "      <td>CA</td>\n",
       "      <td>90003</td>\n",
       "      <td>USA</td>\n",
       "      <td>NaN</td>\n",
       "      <td>Young</td>\n",
       "      <td>Julie</td>\n",
       "      <td>Medium</td>\n",
       "    </tr>\n",
       "    <tr>\n",
       "      <th>4</th>\n",
       "      <td>10159</td>\n",
       "      <td>49</td>\n",
       "      <td>100.00</td>\n",
       "      <td>14</td>\n",
       "      <td>5205.27</td>\n",
       "      <td>10/10/2003 0:00</td>\n",
       "      <td>Shipped</td>\n",
       "      <td>4</td>\n",
       "      <td>10</td>\n",
       "      <td>2003</td>\n",
       "      <td>Motorcycles</td>\n",
       "      <td>95</td>\n",
       "      <td>S10_1678</td>\n",
       "      <td>Corporate Gift Ideas Co.</td>\n",
       "      <td>6505551386</td>\n",
       "      <td>7734 Strong St.</td>\n",
       "      <td>NaN</td>\n",
       "      <td>San Francisco</td>\n",
       "      <td>CA</td>\n",
       "      <td>NaN</td>\n",
       "      <td>USA</td>\n",
       "      <td>NaN</td>\n",
       "      <td>Brown</td>\n",
       "      <td>Julie</td>\n",
       "      <td>Medium</td>\n",
       "    </tr>\n",
       "  </tbody>\n",
       "</table>\n",
       "</div>"
      ],
      "text/plain": [
       "   ORDERNUMBER  QUANTITYORDERED  PRICEEACH  ORDERLINENUMBER    SALES  \\\n",
       "0        10107               30      95.70                2  2871.00   \n",
       "1        10121               34      81.35                5  2765.90   \n",
       "2        10134               41      94.74                2  3884.34   \n",
       "3        10145               45      83.26                6  3746.70   \n",
       "4        10159               49     100.00               14  5205.27   \n",
       "\n",
       "         ORDERDATE   STATUS  QTR_ID  MONTH_ID  YEAR_ID  PRODUCTLINE  MSRP  \\\n",
       "0   2/24/2003 0:00  Shipped       1         2     2003  Motorcycles    95   \n",
       "1    5/7/2003 0:00  Shipped       2         5     2003  Motorcycles    95   \n",
       "2    7/1/2003 0:00  Shipped       3         7     2003  Motorcycles    95   \n",
       "3   8/25/2003 0:00  Shipped       3         8     2003  Motorcycles    95   \n",
       "4  10/10/2003 0:00  Shipped       4        10     2003  Motorcycles    95   \n",
       "\n",
       "  PRODUCTCODE              CUSTOMERNAME             PHONE  \\\n",
       "0    S10_1678         Land of Toys Inc.        2125557818   \n",
       "1    S10_1678        Reims Collectables        26.47.1555   \n",
       "2    S10_1678           Lyon Souveniers  +33 1 46 62 7555   \n",
       "3    S10_1678         Toys4GrownUps.com        6265557265   \n",
       "4    S10_1678  Corporate Gift Ideas Co.        6505551386   \n",
       "\n",
       "                    ADDRESSLINE1 ADDRESSLINE2           CITY STATE POSTALCODE  \\\n",
       "0        897 Long Airport Avenue          NaN            NYC    NY      10022   \n",
       "1             59 rue de l'Abbaye          NaN          Reims   NaN      51100   \n",
       "2  27 rue du Colonel Pierre Avia          NaN          Paris   NaN      75508   \n",
       "3             78934 Hillside Dr.          NaN       Pasadena    CA      90003   \n",
       "4                7734 Strong St.          NaN  San Francisco    CA        NaN   \n",
       "\n",
       "  COUNTRY TERRITORY CONTACTLASTNAME CONTACTFIRSTNAME DEALSIZE  \n",
       "0     USA       NaN              Yu             Kwai    Small  \n",
       "1  France      EMEA         Henriot             Paul    Small  \n",
       "2  France      EMEA        Da Cunha           Daniel   Medium  \n",
       "3     USA       NaN           Young            Julie   Medium  \n",
       "4     USA       NaN           Brown            Julie   Medium  "
      ]
     },
     "execution_count": 2,
     "metadata": {},
     "output_type": "execute_result"
    }
   ],
   "source": [
    "data = pd.read_csv(\"sales_data_sample.csv\", sep=\",\", encoding='Latin-1')\n",
    "pd.set_option('display.max_columns', None)\n",
    "data.head()"
   ]
  },
  {
   "cell_type": "markdown",
   "id": "54dec4e3",
   "metadata": {},
   "source": [
    "## 3) Exploring the dataframe"
   ]
  },
  {
   "cell_type": "markdown",
   "id": "84e72f4e",
   "metadata": {},
   "source": [
    "### a) Determine the shape of the database "
   ]
  },
  {
   "cell_type": "code",
   "execution_count": 3,
   "id": "7b54b52f",
   "metadata": {},
   "outputs": [
    {
     "name": "stdout",
     "output_type": "stream",
     "text": [
      "This dataset has 2823 rows and 25 columns.\n"
     ]
    }
   ],
   "source": [
    "rows = data.shape[0]\n",
    "columns =data.shape[1]\n",
    "\n",
    "print(\"This dataset has\",rows,\"rows and\",columns,\"columns.\")"
   ]
  },
  {
   "cell_type": "markdown",
   "id": "bb36d019",
   "metadata": {},
   "source": [
    "## b) Check the summary of the dataframe"
   ]
  },
  {
   "cell_type": "code",
   "execution_count": 4,
   "id": "333f0ec1",
   "metadata": {},
   "outputs": [
    {
     "name": "stdout",
     "output_type": "stream",
     "text": [
      "<class 'pandas.core.frame.DataFrame'>\n",
      "RangeIndex: 2823 entries, 0 to 2822\n",
      "Data columns (total 25 columns):\n",
      " #   Column            Non-Null Count  Dtype  \n",
      "---  ------            --------------  -----  \n",
      " 0   ORDERNUMBER       2823 non-null   int64  \n",
      " 1   QUANTITYORDERED   2823 non-null   int64  \n",
      " 2   PRICEEACH         2823 non-null   float64\n",
      " 3   ORDERLINENUMBER   2823 non-null   int64  \n",
      " 4   SALES             2823 non-null   float64\n",
      " 5   ORDERDATE         2823 non-null   object \n",
      " 6   STATUS            2823 non-null   object \n",
      " 7   QTR_ID            2823 non-null   int64  \n",
      " 8   MONTH_ID          2823 non-null   int64  \n",
      " 9   YEAR_ID           2823 non-null   int64  \n",
      " 10  PRODUCTLINE       2823 non-null   object \n",
      " 11  MSRP              2823 non-null   int64  \n",
      " 12  PRODUCTCODE       2823 non-null   object \n",
      " 13  CUSTOMERNAME      2823 non-null   object \n",
      " 14  PHONE             2823 non-null   object \n",
      " 15  ADDRESSLINE1      2823 non-null   object \n",
      " 16  ADDRESSLINE2      302 non-null    object \n",
      " 17  CITY              2823 non-null   object \n",
      " 18  STATE             1337 non-null   object \n",
      " 19  POSTALCODE        2747 non-null   object \n",
      " 20  COUNTRY           2823 non-null   object \n",
      " 21  TERRITORY         1749 non-null   object \n",
      " 22  CONTACTLASTNAME   2823 non-null   object \n",
      " 23  CONTACTFIRSTNAME  2823 non-null   object \n",
      " 24  DEALSIZE          2823 non-null   object \n",
      "dtypes: float64(2), int64(7), object(16)\n",
      "memory usage: 551.5+ KB\n"
     ]
    }
   ],
   "source": [
    "data.info()"
   ]
  },
  {
   "cell_type": "markdown",
   "id": "b26648ef",
   "metadata": {},
   "source": [
    "## c)  dataset description\n",
    "The dataset for this project was sourced from [kaggle.com](https://www.kaggle.com/datasets/kyanyoga/sample-sales-data).\n",
    "The dataset contains information about 2800 instances (customers, in this case) across 25 different attributes ranging from OrderedNumber to Productline and so on."
   ]
  },
  {
   "cell_type": "code",
   "execution_count": null,
   "id": "915dcab6",
   "metadata": {},
   "outputs": [],
   "source": []
  },
  {
   "cell_type": "code",
   "execution_count": null,
   "id": "10341740",
   "metadata": {},
   "outputs": [],
   "source": []
  },
  {
   "cell_type": "markdown",
   "id": "59d99370",
   "metadata": {},
   "source": [
    "## d) Checking missing data"
   ]
  },
  {
   "cell_type": "code",
   "execution_count": 5,
   "id": "63a2acae",
   "metadata": {},
   "outputs": [
    {
     "name": "stdout",
     "output_type": "stream",
     "text": [
      "There are/is 5157 missing values in this dataset\n"
     ]
    }
   ],
   "source": [
    "if data.isnull().sum().sum() > 0:\n",
    "    print(f'There are/is {data.isnull().sum().sum()} missing values in this dataset')\n",
    "else:\n",
    "    print('There are no missing values in this dataset')"
   ]
  },
  {
   "cell_type": "markdown",
   "id": "549a37ac",
   "metadata": {},
   "source": [
    "### Observations:"
   ]
  },
  {
   "cell_type": "markdown",
   "id": "395a64f2",
   "metadata": {},
   "source": [
    "1. The columns and rows are in upper case.\n",
    "2. Certain columns have longer names.\n",
    "3. The data type of the values in the ORDEREDATE column is a `string`, we will convert them into a `datetime` data type.\n",
    "4. The data type of the values in the PHONE and POSTAL CODE column are `object`, we will convert them into an `integer` data type\n",
    "5. The dataframe contains missing values"
   ]
  },
  {
   "cell_type": "markdown",
   "id": "e9e42dcb",
   "metadata": {},
   "source": [
    "## 4) Cleaning the Data"
   ]
  },
  {
   "cell_type": "markdown",
   "id": "1184c85e",
   "metadata": {},
   "source": [
    "### a) Converting columns and rows to lower case"
   ]
  },
  {
   "cell_type": "code",
   "execution_count": 6,
   "id": "c9f37c1a",
   "metadata": {},
   "outputs": [],
   "source": [
    "data.columns = data.columns.str.lower()"
   ]
  },
  {
   "cell_type": "code",
   "execution_count": 7,
   "id": "b5d593f6",
   "metadata": {},
   "outputs": [],
   "source": [
    "strings = list(data.dtypes[data.dtypes== 'object'].index)\n",
    "\n",
    "for rows in strings:\n",
    "    data[rows] = data[rows].str.lower().str.replace(' ', '_')"
   ]
  },
  {
   "cell_type": "markdown",
   "id": "0130ebbb",
   "metadata": {},
   "source": [
    "### b) Renaming long columns names, to lesser words"
   ]
  },
  {
   "cell_type": "code",
   "execution_count": 8,
   "id": "192aa48e",
   "metadata": {},
   "outputs": [],
   "source": [
    "data.rename(columns = {\n",
    "                         'sales' : 'total_price',\n",
    "                         'dealsize' : 'deal_size',\n",
    "                         'orderdate' : 'orderd_date',\n",
    "                         'ordernumber' : 'orderd_num',\n",
    "                         'postalcode' : 'postal_code',\n",
    "                         'productcode' : 'product_code',\n",
    "                         'productline' : 'product_line',\n",
    "                         'priceeach' : 'price_per_item',\n",
    "                         'customername' : 'customer_name',\n",
    "                         'quantityordered' : 'qty_ordered',\n",
    "                         'orderlinenumber' : 'order_line_num',\n",
    "                         'contactfirstname' : 'first_name',\n",
    "                         'contactlastname' : 'last_name'\n",
    "                       \n",
    "                          }, inplace = True)"
   ]
  },
  {
   "cell_type": "markdown",
   "id": "3656e028",
   "metadata": {},
   "source": [
    "### c) Handling missing values"
   ]
  },
  {
   "cell_type": "code",
   "execution_count": 9,
   "id": "571a2a63",
   "metadata": {},
   "outputs": [],
   "source": [
    "# missing values for addressline2 is filled with 'not available'\n",
    "data.addressline2 = data.addressline2.replace(np.nan, 'not available')\n",
    "\n",
    "# missing values for State is filled with  'not given' \n",
    "data.state = data.state.replace(np.nan, 'Not available')\n",
    "\n",
    "# missing values for territory is replaced with 'not available'\n",
    "data.territory = data.territory.replace(np.nan, 'not available')"
   ]
  },
  {
   "cell_type": "code",
   "execution_count": 10,
   "id": "9bf14518",
   "metadata": {},
   "outputs": [],
   "source": [
    "# missing values for postalcode is relaced with zero\n",
    "data['postal_code'] = data['postal_code'].fillna(0)\n",
    "\n",
    "# mising values for phone is replace with zero's\n",
    "data['phone'] = data['phone'].fillna(0)"
   ]
  },
  {
   "cell_type": "code",
   "execution_count": 11,
   "id": "16d58e87",
   "metadata": {},
   "outputs": [
    {
     "name": "stdout",
     "output_type": "stream",
     "text": [
      "There are no missing values in this dataset\n"
     ]
    }
   ],
   "source": [
    "if data.isnull().sum().sum() > 0:\n",
    "    print(f'There are/is {data.isnull().sum().sum()} missing values in this dataset')\n",
    "else:\n",
    "    print('There are no missing values in this dataset')"
   ]
  },
  {
   "cell_type": "code",
   "execution_count": 12,
   "id": "aa6de939",
   "metadata": {},
   "outputs": [
    {
     "data": {
      "text/html": [
       "<div>\n",
       "<style scoped>\n",
       "    .dataframe tbody tr th:only-of-type {\n",
       "        vertical-align: middle;\n",
       "    }\n",
       "\n",
       "    .dataframe tbody tr th {\n",
       "        vertical-align: top;\n",
       "    }\n",
       "\n",
       "    .dataframe thead th {\n",
       "        text-align: right;\n",
       "    }\n",
       "</style>\n",
       "<table border=\"1\" class=\"dataframe\">\n",
       "  <thead>\n",
       "    <tr style=\"text-align: right;\">\n",
       "      <th></th>\n",
       "      <th>orderd_num</th>\n",
       "      <th>qty_ordered</th>\n",
       "      <th>price_per_item</th>\n",
       "      <th>order_line_num</th>\n",
       "      <th>total_price</th>\n",
       "      <th>orderd_date</th>\n",
       "      <th>status</th>\n",
       "      <th>qtr_id</th>\n",
       "      <th>month_id</th>\n",
       "      <th>year_id</th>\n",
       "      <th>product_line</th>\n",
       "      <th>msrp</th>\n",
       "      <th>product_code</th>\n",
       "      <th>customer_name</th>\n",
       "      <th>phone</th>\n",
       "      <th>addressline1</th>\n",
       "      <th>addressline2</th>\n",
       "      <th>city</th>\n",
       "      <th>state</th>\n",
       "      <th>postal_code</th>\n",
       "      <th>country</th>\n",
       "      <th>territory</th>\n",
       "      <th>last_name</th>\n",
       "      <th>first_name</th>\n",
       "      <th>deal_size</th>\n",
       "    </tr>\n",
       "  </thead>\n",
       "  <tbody>\n",
       "    <tr>\n",
       "      <th>0</th>\n",
       "      <td>10107</td>\n",
       "      <td>30</td>\n",
       "      <td>95.70</td>\n",
       "      <td>2</td>\n",
       "      <td>2871.00</td>\n",
       "      <td>2/24/2003_0:00</td>\n",
       "      <td>shipped</td>\n",
       "      <td>1</td>\n",
       "      <td>2</td>\n",
       "      <td>2003</td>\n",
       "      <td>motorcycles</td>\n",
       "      <td>95</td>\n",
       "      <td>s10_1678</td>\n",
       "      <td>land_of_toys_inc.</td>\n",
       "      <td>2125557818</td>\n",
       "      <td>897_long_airport_avenue</td>\n",
       "      <td>not available</td>\n",
       "      <td>nyc</td>\n",
       "      <td>ny</td>\n",
       "      <td>10022</td>\n",
       "      <td>usa</td>\n",
       "      <td>not available</td>\n",
       "      <td>yu</td>\n",
       "      <td>kwai</td>\n",
       "      <td>small</td>\n",
       "    </tr>\n",
       "    <tr>\n",
       "      <th>1</th>\n",
       "      <td>10121</td>\n",
       "      <td>34</td>\n",
       "      <td>81.35</td>\n",
       "      <td>5</td>\n",
       "      <td>2765.90</td>\n",
       "      <td>5/7/2003_0:00</td>\n",
       "      <td>shipped</td>\n",
       "      <td>2</td>\n",
       "      <td>5</td>\n",
       "      <td>2003</td>\n",
       "      <td>motorcycles</td>\n",
       "      <td>95</td>\n",
       "      <td>s10_1678</td>\n",
       "      <td>reims_collectables</td>\n",
       "      <td>26.47.1555</td>\n",
       "      <td>59_rue_de_l'abbaye</td>\n",
       "      <td>not available</td>\n",
       "      <td>reims</td>\n",
       "      <td>Not available</td>\n",
       "      <td>51100</td>\n",
       "      <td>france</td>\n",
       "      <td>emea</td>\n",
       "      <td>henriot</td>\n",
       "      <td>paul</td>\n",
       "      <td>small</td>\n",
       "    </tr>\n",
       "    <tr>\n",
       "      <th>2</th>\n",
       "      <td>10134</td>\n",
       "      <td>41</td>\n",
       "      <td>94.74</td>\n",
       "      <td>2</td>\n",
       "      <td>3884.34</td>\n",
       "      <td>7/1/2003_0:00</td>\n",
       "      <td>shipped</td>\n",
       "      <td>3</td>\n",
       "      <td>7</td>\n",
       "      <td>2003</td>\n",
       "      <td>motorcycles</td>\n",
       "      <td>95</td>\n",
       "      <td>s10_1678</td>\n",
       "      <td>lyon_souveniers</td>\n",
       "      <td>+33_1_46_62_7555</td>\n",
       "      <td>27_rue_du_colonel_pierre_avia</td>\n",
       "      <td>not available</td>\n",
       "      <td>paris</td>\n",
       "      <td>Not available</td>\n",
       "      <td>75508</td>\n",
       "      <td>france</td>\n",
       "      <td>emea</td>\n",
       "      <td>da_cunha</td>\n",
       "      <td>daniel</td>\n",
       "      <td>medium</td>\n",
       "    </tr>\n",
       "    <tr>\n",
       "      <th>3</th>\n",
       "      <td>10145</td>\n",
       "      <td>45</td>\n",
       "      <td>83.26</td>\n",
       "      <td>6</td>\n",
       "      <td>3746.70</td>\n",
       "      <td>8/25/2003_0:00</td>\n",
       "      <td>shipped</td>\n",
       "      <td>3</td>\n",
       "      <td>8</td>\n",
       "      <td>2003</td>\n",
       "      <td>motorcycles</td>\n",
       "      <td>95</td>\n",
       "      <td>s10_1678</td>\n",
       "      <td>toys4grownups.com</td>\n",
       "      <td>6265557265</td>\n",
       "      <td>78934_hillside_dr.</td>\n",
       "      <td>not available</td>\n",
       "      <td>pasadena</td>\n",
       "      <td>ca</td>\n",
       "      <td>90003</td>\n",
       "      <td>usa</td>\n",
       "      <td>not available</td>\n",
       "      <td>young</td>\n",
       "      <td>julie</td>\n",
       "      <td>medium</td>\n",
       "    </tr>\n",
       "    <tr>\n",
       "      <th>4</th>\n",
       "      <td>10159</td>\n",
       "      <td>49</td>\n",
       "      <td>100.00</td>\n",
       "      <td>14</td>\n",
       "      <td>5205.27</td>\n",
       "      <td>10/10/2003_0:00</td>\n",
       "      <td>shipped</td>\n",
       "      <td>4</td>\n",
       "      <td>10</td>\n",
       "      <td>2003</td>\n",
       "      <td>motorcycles</td>\n",
       "      <td>95</td>\n",
       "      <td>s10_1678</td>\n",
       "      <td>corporate_gift_ideas_co.</td>\n",
       "      <td>6505551386</td>\n",
       "      <td>7734_strong_st.</td>\n",
       "      <td>not available</td>\n",
       "      <td>san_francisco</td>\n",
       "      <td>ca</td>\n",
       "      <td>0</td>\n",
       "      <td>usa</td>\n",
       "      <td>not available</td>\n",
       "      <td>brown</td>\n",
       "      <td>julie</td>\n",
       "      <td>medium</td>\n",
       "    </tr>\n",
       "  </tbody>\n",
       "</table>\n",
       "</div>"
      ],
      "text/plain": [
       "   orderd_num  qty_ordered  price_per_item  order_line_num  total_price  \\\n",
       "0       10107           30           95.70               2      2871.00   \n",
       "1       10121           34           81.35               5      2765.90   \n",
       "2       10134           41           94.74               2      3884.34   \n",
       "3       10145           45           83.26               6      3746.70   \n",
       "4       10159           49          100.00              14      5205.27   \n",
       "\n",
       "       orderd_date   status  qtr_id  month_id  year_id product_line  msrp  \\\n",
       "0   2/24/2003_0:00  shipped       1         2     2003  motorcycles    95   \n",
       "1    5/7/2003_0:00  shipped       2         5     2003  motorcycles    95   \n",
       "2    7/1/2003_0:00  shipped       3         7     2003  motorcycles    95   \n",
       "3   8/25/2003_0:00  shipped       3         8     2003  motorcycles    95   \n",
       "4  10/10/2003_0:00  shipped       4        10     2003  motorcycles    95   \n",
       "\n",
       "  product_code             customer_name             phone  \\\n",
       "0     s10_1678         land_of_toys_inc.        2125557818   \n",
       "1     s10_1678        reims_collectables        26.47.1555   \n",
       "2     s10_1678           lyon_souveniers  +33_1_46_62_7555   \n",
       "3     s10_1678         toys4grownups.com        6265557265   \n",
       "4     s10_1678  corporate_gift_ideas_co.        6505551386   \n",
       "\n",
       "                    addressline1   addressline2           city          state  \\\n",
       "0        897_long_airport_avenue  not available            nyc             ny   \n",
       "1             59_rue_de_l'abbaye  not available          reims  Not available   \n",
       "2  27_rue_du_colonel_pierre_avia  not available          paris  Not available   \n",
       "3             78934_hillside_dr.  not available       pasadena             ca   \n",
       "4                7734_strong_st.  not available  san_francisco             ca   \n",
       "\n",
       "  postal_code country      territory last_name first_name deal_size  \n",
       "0       10022     usa  not available        yu       kwai     small  \n",
       "1       51100  france           emea   henriot       paul     small  \n",
       "2       75508  france           emea  da_cunha     daniel    medium  \n",
       "3       90003     usa  not available     young      julie    medium  \n",
       "4           0     usa  not available     brown      julie    medium  "
      ]
     },
     "execution_count": 12,
     "metadata": {},
     "output_type": "execute_result"
    }
   ],
   "source": [
    "data.head()"
   ]
  },
  {
   "cell_type": "markdown",
   "id": "05e1a495",
   "metadata": {},
   "source": [
    "### d) Converting incorrect data types"
   ]
  },
  {
   "cell_type": "code",
   "execution_count": 13,
   "id": "aae80d49",
   "metadata": {},
   "outputs": [
    {
     "data": {
      "text/html": [
       "<div>\n",
       "<style scoped>\n",
       "    .dataframe tbody tr th:only-of-type {\n",
       "        vertical-align: middle;\n",
       "    }\n",
       "\n",
       "    .dataframe tbody tr th {\n",
       "        vertical-align: top;\n",
       "    }\n",
       "\n",
       "    .dataframe thead th {\n",
       "        text-align: right;\n",
       "    }\n",
       "</style>\n",
       "<table border=\"1\" class=\"dataframe\">\n",
       "  <thead>\n",
       "    <tr style=\"text-align: right;\">\n",
       "      <th></th>\n",
       "      <th>orderd_num</th>\n",
       "      <th>qty_ordered</th>\n",
       "      <th>price_per_item</th>\n",
       "      <th>order_line_num</th>\n",
       "      <th>total_price</th>\n",
       "      <th>orderd_date</th>\n",
       "      <th>status</th>\n",
       "      <th>qtr_id</th>\n",
       "      <th>month_id</th>\n",
       "      <th>year_id</th>\n",
       "      <th>product_line</th>\n",
       "      <th>msrp</th>\n",
       "      <th>product_code</th>\n",
       "      <th>customer_name</th>\n",
       "      <th>phone</th>\n",
       "      <th>addressline1</th>\n",
       "      <th>addressline2</th>\n",
       "      <th>city</th>\n",
       "      <th>state</th>\n",
       "      <th>postal_code</th>\n",
       "      <th>country</th>\n",
       "      <th>territory</th>\n",
       "      <th>last_name</th>\n",
       "      <th>first_name</th>\n",
       "      <th>deal_size</th>\n",
       "    </tr>\n",
       "  </thead>\n",
       "  <tbody>\n",
       "    <tr>\n",
       "      <th>0</th>\n",
       "      <td>10107</td>\n",
       "      <td>30</td>\n",
       "      <td>95.70</td>\n",
       "      <td>2</td>\n",
       "      <td>2871.00</td>\n",
       "      <td>2003-02-24</td>\n",
       "      <td>shipped</td>\n",
       "      <td>1</td>\n",
       "      <td>2</td>\n",
       "      <td>2003</td>\n",
       "      <td>motorcycles</td>\n",
       "      <td>95</td>\n",
       "      <td>s10_1678</td>\n",
       "      <td>land_of_toys_inc.</td>\n",
       "      <td>2125557818</td>\n",
       "      <td>897_long_airport_avenue</td>\n",
       "      <td>not available</td>\n",
       "      <td>nyc</td>\n",
       "      <td>ny</td>\n",
       "      <td>10022</td>\n",
       "      <td>usa</td>\n",
       "      <td>not available</td>\n",
       "      <td>yu</td>\n",
       "      <td>kwai</td>\n",
       "      <td>small</td>\n",
       "    </tr>\n",
       "    <tr>\n",
       "      <th>1</th>\n",
       "      <td>10121</td>\n",
       "      <td>34</td>\n",
       "      <td>81.35</td>\n",
       "      <td>5</td>\n",
       "      <td>2765.90</td>\n",
       "      <td>2003-05-07</td>\n",
       "      <td>shipped</td>\n",
       "      <td>2</td>\n",
       "      <td>5</td>\n",
       "      <td>2003</td>\n",
       "      <td>motorcycles</td>\n",
       "      <td>95</td>\n",
       "      <td>s10_1678</td>\n",
       "      <td>reims_collectables</td>\n",
       "      <td>0</td>\n",
       "      <td>59_rue_de_l'abbaye</td>\n",
       "      <td>not available</td>\n",
       "      <td>reims</td>\n",
       "      <td>Not available</td>\n",
       "      <td>51100</td>\n",
       "      <td>france</td>\n",
       "      <td>emea</td>\n",
       "      <td>henriot</td>\n",
       "      <td>paul</td>\n",
       "      <td>small</td>\n",
       "    </tr>\n",
       "    <tr>\n",
       "      <th>2</th>\n",
       "      <td>10134</td>\n",
       "      <td>41</td>\n",
       "      <td>94.74</td>\n",
       "      <td>2</td>\n",
       "      <td>3884.34</td>\n",
       "      <td>2003-07-01</td>\n",
       "      <td>shipped</td>\n",
       "      <td>3</td>\n",
       "      <td>7</td>\n",
       "      <td>2003</td>\n",
       "      <td>motorcycles</td>\n",
       "      <td>95</td>\n",
       "      <td>s10_1678</td>\n",
       "      <td>lyon_souveniers</td>\n",
       "      <td>0</td>\n",
       "      <td>27_rue_du_colonel_pierre_avia</td>\n",
       "      <td>not available</td>\n",
       "      <td>paris</td>\n",
       "      <td>Not available</td>\n",
       "      <td>75508</td>\n",
       "      <td>france</td>\n",
       "      <td>emea</td>\n",
       "      <td>da_cunha</td>\n",
       "      <td>daniel</td>\n",
       "      <td>medium</td>\n",
       "    </tr>\n",
       "    <tr>\n",
       "      <th>3</th>\n",
       "      <td>10145</td>\n",
       "      <td>45</td>\n",
       "      <td>83.26</td>\n",
       "      <td>6</td>\n",
       "      <td>3746.70</td>\n",
       "      <td>2003-08-25</td>\n",
       "      <td>shipped</td>\n",
       "      <td>3</td>\n",
       "      <td>8</td>\n",
       "      <td>2003</td>\n",
       "      <td>motorcycles</td>\n",
       "      <td>95</td>\n",
       "      <td>s10_1678</td>\n",
       "      <td>toys4grownups.com</td>\n",
       "      <td>6265557265</td>\n",
       "      <td>78934_hillside_dr.</td>\n",
       "      <td>not available</td>\n",
       "      <td>pasadena</td>\n",
       "      <td>ca</td>\n",
       "      <td>90003</td>\n",
       "      <td>usa</td>\n",
       "      <td>not available</td>\n",
       "      <td>young</td>\n",
       "      <td>julie</td>\n",
       "      <td>medium</td>\n",
       "    </tr>\n",
       "    <tr>\n",
       "      <th>4</th>\n",
       "      <td>10159</td>\n",
       "      <td>49</td>\n",
       "      <td>100.00</td>\n",
       "      <td>14</td>\n",
       "      <td>5205.27</td>\n",
       "      <td>2003-10-10</td>\n",
       "      <td>shipped</td>\n",
       "      <td>4</td>\n",
       "      <td>10</td>\n",
       "      <td>2003</td>\n",
       "      <td>motorcycles</td>\n",
       "      <td>95</td>\n",
       "      <td>s10_1678</td>\n",
       "      <td>corporate_gift_ideas_co.</td>\n",
       "      <td>6505551386</td>\n",
       "      <td>7734_strong_st.</td>\n",
       "      <td>not available</td>\n",
       "      <td>san_francisco</td>\n",
       "      <td>ca</td>\n",
       "      <td>0</td>\n",
       "      <td>usa</td>\n",
       "      <td>not available</td>\n",
       "      <td>brown</td>\n",
       "      <td>julie</td>\n",
       "      <td>medium</td>\n",
       "    </tr>\n",
       "  </tbody>\n",
       "</table>\n",
       "</div>"
      ],
      "text/plain": [
       "   orderd_num  qty_ordered  price_per_item  order_line_num  total_price  \\\n",
       "0       10107           30           95.70               2      2871.00   \n",
       "1       10121           34           81.35               5      2765.90   \n",
       "2       10134           41           94.74               2      3884.34   \n",
       "3       10145           45           83.26               6      3746.70   \n",
       "4       10159           49          100.00              14      5205.27   \n",
       "\n",
       "  orderd_date   status  qtr_id  month_id  year_id product_line  msrp  \\\n",
       "0  2003-02-24  shipped       1         2     2003  motorcycles    95   \n",
       "1  2003-05-07  shipped       2         5     2003  motorcycles    95   \n",
       "2  2003-07-01  shipped       3         7     2003  motorcycles    95   \n",
       "3  2003-08-25  shipped       3         8     2003  motorcycles    95   \n",
       "4  2003-10-10  shipped       4        10     2003  motorcycles    95   \n",
       "\n",
       "  product_code             customer_name       phone  \\\n",
       "0     s10_1678         land_of_toys_inc.  2125557818   \n",
       "1     s10_1678        reims_collectables           0   \n",
       "2     s10_1678           lyon_souveniers           0   \n",
       "3     s10_1678         toys4grownups.com  6265557265   \n",
       "4     s10_1678  corporate_gift_ideas_co.  6505551386   \n",
       "\n",
       "                    addressline1   addressline2           city          state  \\\n",
       "0        897_long_airport_avenue  not available            nyc             ny   \n",
       "1             59_rue_de_l'abbaye  not available          reims  Not available   \n",
       "2  27_rue_du_colonel_pierre_avia  not available          paris  Not available   \n",
       "3             78934_hillside_dr.  not available       pasadena             ca   \n",
       "4                7734_strong_st.  not available  san_francisco             ca   \n",
       "\n",
       "   postal_code country      territory last_name first_name deal_size  \n",
       "0        10022     usa  not available        yu       kwai     small  \n",
       "1        51100  france           emea   henriot       paul     small  \n",
       "2        75508  france           emea  da_cunha     daniel    medium  \n",
       "3        90003     usa  not available     young      julie    medium  \n",
       "4            0     usa  not available     brown      julie    medium  "
      ]
     },
     "execution_count": 13,
     "metadata": {},
     "output_type": "execute_result"
    }
   ],
   "source": [
    "# a default _0:00 in the column was stripped off ordered_date\n",
    "data['orderd_date'] = data['orderd_date'].astype(str).str.replace('_0:00', ' ')\n",
    "\n",
    "# order_date is been converted to a timestamp\n",
    "data['orderd_date'] = pd.to_datetime(data['orderd_date'])\n",
    "\n",
    "# postal_code is been converted int64\n",
    "data['postal_code'] = pd.to_numeric(data['postal_code'], errors = \"coerce\")\n",
    "data['postal_code'] = data['postal_code'].fillna(0)\n",
    "data['postal_code'] = data['postal_code'].astype(np.int64)\n",
    "\n",
    "# phone is been converted to int64\n",
    "data['phone'] = pd.to_numeric(data['phone'], errors = \"coerce\")\n",
    "data['phone'] = data['phone'].fillna(0)\n",
    "data['phone'] = data['phone'].astype(np.int64)\n",
    "\n",
    "\n",
    "data.head()"
   ]
  },
  {
   "cell_type": "code",
   "execution_count": 14,
   "id": "e9c8e194",
   "metadata": {},
   "outputs": [
    {
     "data": {
      "text/plain": [
       "orderd_num        0\n",
       "qty_ordered       0\n",
       "price_per_item    0\n",
       "order_line_num    0\n",
       "total_price       0\n",
       "orderd_date       0\n",
       "status            0\n",
       "qtr_id            0\n",
       "month_id          0\n",
       "year_id           0\n",
       "product_line      0\n",
       "msrp              0\n",
       "product_code      0\n",
       "customer_name     0\n",
       "phone             0\n",
       "addressline1      0\n",
       "addressline2      0\n",
       "city              0\n",
       "state             0\n",
       "postal_code       0\n",
       "country           0\n",
       "territory         0\n",
       "last_name         0\n",
       "first_name        0\n",
       "deal_size         0\n",
       "dtype: int64"
      ]
     },
     "execution_count": 14,
     "metadata": {},
     "output_type": "execute_result"
    }
   ],
   "source": [
    "data.isnull().sum()"
   ]
  },
  {
   "cell_type": "code",
   "execution_count": 15,
   "id": "af2cf5b1",
   "metadata": {},
   "outputs": [
    {
     "name": "stdout",
     "output_type": "stream",
     "text": [
      "<class 'pandas.core.frame.DataFrame'>\n",
      "RangeIndex: 2823 entries, 0 to 2822\n",
      "Data columns (total 25 columns):\n",
      " #   Column          Non-Null Count  Dtype         \n",
      "---  ------          --------------  -----         \n",
      " 0   orderd_num      2823 non-null   int64         \n",
      " 1   qty_ordered     2823 non-null   int64         \n",
      " 2   price_per_item  2823 non-null   float64       \n",
      " 3   order_line_num  2823 non-null   int64         \n",
      " 4   total_price     2823 non-null   float64       \n",
      " 5   orderd_date     2823 non-null   datetime64[ns]\n",
      " 6   status          2823 non-null   object        \n",
      " 7   qtr_id          2823 non-null   int64         \n",
      " 8   month_id        2823 non-null   int64         \n",
      " 9   year_id         2823 non-null   int64         \n",
      " 10  product_line    2823 non-null   object        \n",
      " 11  msrp            2823 non-null   int64         \n",
      " 12  product_code    2823 non-null   object        \n",
      " 13  customer_name   2823 non-null   object        \n",
      " 14  phone           2823 non-null   int64         \n",
      " 15  addressline1    2823 non-null   object        \n",
      " 16  addressline2    2823 non-null   object        \n",
      " 17  city            2823 non-null   object        \n",
      " 18  state           2823 non-null   object        \n",
      " 19  postal_code     2823 non-null   int64         \n",
      " 20  country         2823 non-null   object        \n",
      " 21  territory       2823 non-null   object        \n",
      " 22  last_name       2823 non-null   object        \n",
      " 23  first_name      2823 non-null   object        \n",
      " 24  deal_size       2823 non-null   object        \n",
      "dtypes: datetime64[ns](1), float64(2), int64(9), object(13)\n",
      "memory usage: 551.5+ KB\n"
     ]
    }
   ],
   "source": [
    "data.info()"
   ]
  },
  {
   "cell_type": "markdown",
   "id": "53b0d18f",
   "metadata": {},
   "source": [
    "#### "
   ]
  },
  {
   "cell_type": "markdown",
   "id": "b8243966",
   "metadata": {},
   "source": [
    "## 5) Data Analysis"
   ]
  },
  {
   "cell_type": "markdown",
   "id": "7507f31b",
   "metadata": {},
   "source": [
    "1. Who are the top 5 countries with the highest and lowest sales\n",
    "2. Ranking most sold products"
   ]
  },
  {
   "cell_type": "markdown",
   "id": "552a7f2c",
   "metadata": {},
   "source": [
    "### 1) Who are the top 5 best performing countries in terms of total sales?"
   ]
  },
  {
   "cell_type": "code",
   "execution_count": 16,
   "id": "88b6d41b",
   "metadata": {},
   "outputs": [],
   "source": [
    "# grouping the dataset by ordered_date against total_price\n",
    "country= data.groupby('country')['total_price'].sum()\n",
    "\n",
    "# Converting the series into dataframe and sort the total_price per country\n",
    "country = country.to_frame().sort_values('total_price', ascending=False)\n",
    "\n",
    "# resetting the index\n",
    "country = country.reset_index()"
   ]
  },
  {
   "cell_type": "code",
   "execution_count": 17,
   "id": "01a5c279",
   "metadata": {},
   "outputs": [
    {
     "data": {
      "text/html": [
       "<div>\n",
       "<style scoped>\n",
       "    .dataframe tbody tr th:only-of-type {\n",
       "        vertical-align: middle;\n",
       "    }\n",
       "\n",
       "    .dataframe tbody tr th {\n",
       "        vertical-align: top;\n",
       "    }\n",
       "\n",
       "    .dataframe thead th {\n",
       "        text-align: right;\n",
       "    }\n",
       "</style>\n",
       "<table border=\"1\" class=\"dataframe\">\n",
       "  <thead>\n",
       "    <tr style=\"text-align: right;\">\n",
       "      <th></th>\n",
       "      <th>country</th>\n",
       "      <th>total_price</th>\n",
       "    </tr>\n",
       "  </thead>\n",
       "  <tbody>\n",
       "    <tr>\n",
       "      <th>0</th>\n",
       "      <td>usa</td>\n",
       "      <td>3627982.83</td>\n",
       "    </tr>\n",
       "    <tr>\n",
       "      <th>1</th>\n",
       "      <td>spain</td>\n",
       "      <td>1215686.92</td>\n",
       "    </tr>\n",
       "    <tr>\n",
       "      <th>2</th>\n",
       "      <td>france</td>\n",
       "      <td>1110916.52</td>\n",
       "    </tr>\n",
       "    <tr>\n",
       "      <th>3</th>\n",
       "      <td>australia</td>\n",
       "      <td>630623.10</td>\n",
       "    </tr>\n",
       "    <tr>\n",
       "      <th>4</th>\n",
       "      <td>uk</td>\n",
       "      <td>478880.46</td>\n",
       "    </tr>\n",
       "  </tbody>\n",
       "</table>\n",
       "</div>"
      ],
      "text/plain": [
       "     country  total_price\n",
       "0        usa   3627982.83\n",
       "1      spain   1215686.92\n",
       "2     france   1110916.52\n",
       "3  australia    630623.10\n",
       "4         uk    478880.46"
      ]
     },
     "execution_count": 17,
     "metadata": {},
     "output_type": "execute_result"
    }
   ],
   "source": [
    "country.head()"
   ]
  },
  {
   "cell_type": "markdown",
   "id": "3376d910",
   "metadata": {},
   "source": [
    "### 2) Who are the top 5 worst performing countries in terms of total sales?"
   ]
  },
  {
   "cell_type": "code",
   "execution_count": 18,
   "id": "19c42f32",
   "metadata": {},
   "outputs": [
    {
     "data": {
      "image/png": "[encoded data removed]",
      "text/plain": [
       "<Figure size 720x360 with 1 Axes>"
      ]
     },
     "metadata": {
      "needs_background": "light"
     },
     "output_type": "display_data"
    }
   ],
   "source": [
    "# Creating a bar graph\n",
    "top_country = country['country'].head()\n",
    "top_price = country['total_price'].head()\n",
    "\n",
    "fig = plt.figure(figsize = (10,5)) \n",
    "plt.bar(top_country,top_price, color = '#0072ce', width = 0.4)\n",
    "\n",
    "\n",
    "plt.xlabel(\"Country\")\n",
    "plt.ylabel(\"total price\")\n",
    "plt.title(\"Top 5 buying country\")\n",
    "plt.show()"
   ]
  },
  {
   "cell_type": "markdown",
   "id": "965fd386",
   "metadata": {},
   "source": [
    "<h3> USA, Spain, France, Australia, and UK, are the top most ordering countries<h3>"
   ]
  },
  {
   "cell_type": "code",
   "execution_count": 19,
   "id": "510c20b5",
   "metadata": {},
   "outputs": [
    {
     "data": {
      "image/png": "[encoded data removed]",
      "text/plain": [
       "<Figure size 720x360 with 1 Axes>"
      ]
     },
     "metadata": {
      "needs_background": "light"
     },
     "output_type": "display_data"
    }
   ],
   "source": [
    "# Creating a bar graph\n",
    "least = country['country'].tail()\n",
    "least_price = country['total_price'].tail()\n",
    "\n",
    "fig = plt.figure(figsize = (10,5)) \n",
    "plt.bar(least,least_price, color = '#0072ce', width = 0.4)\n",
    "\n",
    "\n",
    "plt.xlabel(\"Country\")\n",
    "plt.ylabel(\"total price\")\n",
    "plt.title(\"Least 5 buying country\")\n",
    "plt.show()"
   ]
  },
  {
   "cell_type": "markdown",
   "id": "1f6ffac1",
   "metadata": {},
   "source": [
    "<h3>Top less odering countries are Japan, Switzerland, Belgium, Phillipines and Island<h3>"
   ]
  },
  {
   "cell_type": "markdown",
   "id": "2bdd464f",
   "metadata": {},
   "source": [
    "### 2) Ranking the most sold products."
   ]
  },
  {
   "cell_type": "code",
   "execution_count": 20,
   "id": "47f95d88",
   "metadata": {},
   "outputs": [],
   "source": [
    "# grouping the dataset by product_line against total_price\n",
    "product = data.groupby('product_line')['total_price'].sum()\n",
    "\n",
    "# Converting the series into dataframe and sort the total_price per country\n",
    "product = product.to_frame().sort_values('total_price', ascending=False)\n",
    "\n",
    "# resetting the index\n",
    "product = product.reset_index()"
   ]
  },
  {
   "cell_type": "code",
   "execution_count": 21,
   "id": "04c1f87b",
   "metadata": {},
   "outputs": [
    {
     "data": {
      "text/html": [
       "<div>\n",
       "<style scoped>\n",
       "    .dataframe tbody tr th:only-of-type {\n",
       "        vertical-align: middle;\n",
       "    }\n",
       "\n",
       "    .dataframe tbody tr th {\n",
       "        vertical-align: top;\n",
       "    }\n",
       "\n",
       "    .dataframe thead th {\n",
       "        text-align: right;\n",
       "    }\n",
       "</style>\n",
       "<table border=\"1\" class=\"dataframe\">\n",
       "  <thead>\n",
       "    <tr style=\"text-align: right;\">\n",
       "      <th></th>\n",
       "      <th>product_line</th>\n",
       "      <th>total_price</th>\n",
       "    </tr>\n",
       "  </thead>\n",
       "  <tbody>\n",
       "    <tr>\n",
       "      <th>0</th>\n",
       "      <td>classic_cars</td>\n",
       "      <td>3919615.66</td>\n",
       "    </tr>\n",
       "    <tr>\n",
       "      <th>1</th>\n",
       "      <td>vintage_cars</td>\n",
       "      <td>1903150.84</td>\n",
       "    </tr>\n",
       "    <tr>\n",
       "      <th>2</th>\n",
       "      <td>motorcycles</td>\n",
       "      <td>1166388.34</td>\n",
       "    </tr>\n",
       "    <tr>\n",
       "      <th>3</th>\n",
       "      <td>trucks_and_buses</td>\n",
       "      <td>1127789.84</td>\n",
       "    </tr>\n",
       "    <tr>\n",
       "      <th>4</th>\n",
       "      <td>planes</td>\n",
       "      <td>975003.57</td>\n",
       "    </tr>\n",
       "  </tbody>\n",
       "</table>\n",
       "</div>"
      ],
      "text/plain": [
       "       product_line  total_price\n",
       "0      classic_cars   3919615.66\n",
       "1      vintage_cars   1903150.84\n",
       "2       motorcycles   1166388.34\n",
       "3  trucks_and_buses   1127789.84\n",
       "4            planes    975003.57"
      ]
     },
     "execution_count": 21,
     "metadata": {},
     "output_type": "execute_result"
    }
   ],
   "source": [
    "product.head()"
   ]
  },
  {
   "cell_type": "code",
   "execution_count": 22,
   "id": "b7a5af3a",
   "metadata": {},
   "outputs": [
    {
     "data": {
      "image/png": "[encoded data removed]",
      "text/plain": [
       "<Figure size 720x360 with 1 Axes>"
      ]
     },
     "metadata": {
      "needs_background": "light"
     },
     "output_type": "display_data"
    }
   ],
   "source": [
    "# Creating a bar graph\n",
    "fig = plt.figure(figsize = (10,5)) \n",
    "plt.bar(product['product_line'], product['total_price'], color = '#0072ce', width = 0.7)\n",
    "\n",
    "\n",
    "plt.title(\"Most Sold Products\")\n",
    "plt.show()"
   ]
  },
  {
   "cell_type": "code",
   "execution_count": null,
   "id": "3f208008",
   "metadata": {},
   "outputs": [],
   "source": []
  },
  {
   "cell_type": "code",
   "execution_count": null,
   "id": "8da8c918",
   "metadata": {},
   "outputs": [],
   "source": []
  }
 ],
 "metadata": {
  "kernelspec": {
   "display_name": "Python 3 (ipykernel)",
   "language": "python",
   "name": "python3"
  },
  "language_info": {
   "codemirror_mode": {
    "name": "ipython",
    "version": 3
   },
   "file_extension": ".py",
   "mimetype": "text/x-python",
   "name": "python",
   "nbconvert_exporter": "python",
   "pygments_lexer": "ipython3",
   "version": "3.9.12"
  }
 },
 "nbformat": 4,
 "nbformat_minor": 5
}
